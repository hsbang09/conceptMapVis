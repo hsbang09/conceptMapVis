{
 "cells": [
  {
   "cell_type": "code",
   "execution_count": 1,
   "metadata": {},
   "outputs": [],
   "source": [
    "import importlib\n",
    "import os\n",
    "import json\n",
    "import xml.etree.ElementTree as ET"
   ]
  },
  {
   "cell_type": "code",
   "execution_count": 2,
   "metadata": {},
   "outputs": [
    {
     "data": {
      "text/plain": [
       "<module 'cxlParser' from '/Users/bang/workspace/conceptMapVis/cxlParser/cxlParser.py'>"
      ]
     },
     "execution_count": 2,
     "metadata": {},
     "output_type": "execute_result"
    }
   ],
   "source": [
    "import cxlParser\n",
    "importlib.reload(cxlParser)"
   ]
  },
  {
   "cell_type": "code",
   "execution_count": 3,
   "metadata": {},
   "outputs": [],
   "source": [
    "parser = cxlParser.CXLParser('ClimateCentric-7.cxl')"
   ]
  },
  {
   "cell_type": "code",
   "execution_count": 4,
   "metadata": {},
   "outputs": [],
   "source": [
    "nodes, edges = parser.exportToVisFormat()"
   ]
  },
  {
   "cell_type": "code",
   "execution_count": 5,
   "metadata": {},
   "outputs": [
    {
     "name": "stdout",
     "output_type": "stream",
     "text": [
      "Exporting json file to ../data/visData/ClimateCentric-7.json\n"
     ]
    }
   ],
   "source": [
    "parser.exportToVisDataFile()"
   ]
  },
  {
   "cell_type": "code",
   "execution_count": null,
   "metadata": {},
   "outputs": [],
   "source": []
  },
  {
   "cell_type": "code",
   "execution_count": null,
   "metadata": {},
   "outputs": [],
   "source": []
  },
  {
   "cell_type": "code",
   "execution_count": 66,
   "metadata": {},
   "outputs": [],
   "source": []
  },
  {
   "cell_type": "code",
   "execution_count": 1,
   "metadata": {},
   "outputs": [],
   "source": [
    "filepath = '../cxl/ClimateCentric-4.cxl'"
   ]
  },
  {
   "cell_type": "code",
   "execution_count": 4,
   "metadata": {},
   "outputs": [],
   "source": [
    "tree = ET.parse(filepath)\n",
    "root = tree.getroot()"
   ]
  },
  {
   "cell_type": "code",
   "execution_count": 5,
   "metadata": {},
   "outputs": [
    {
     "data": {
      "text/plain": [
       "'{http://cmap.ihmc.us/xml/cmap/}cmap'"
      ]
     },
     "execution_count": 5,
     "metadata": {},
     "output_type": "execute_result"
    }
   ],
   "source": [
    "root.tag"
   ]
  },
  {
   "cell_type": "code",
   "execution_count": 6,
   "metadata": {},
   "outputs": [],
   "source": [
    "network = root[1]"
   ]
  },
  {
   "cell_type": "code",
   "execution_count": 7,
   "metadata": {},
   "outputs": [
    {
     "data": {
      "text/plain": [
       "'{http://cmap.ihmc.us/xml/cmap/}map'"
      ]
     },
     "execution_count": 7,
     "metadata": {},
     "output_type": "execute_result"
    }
   ],
   "source": [
    "network.tag"
   ]
  },
  {
   "cell_type": "code",
   "execution_count": 8,
   "metadata": {},
   "outputs": [],
   "source": [
    "conceptList = network[0]\n",
    "linkList = network[1]\n",
    "connectionList = network[2]"
   ]
  },
  {
   "cell_type": "code",
   "execution_count": null,
   "metadata": {},
   "outputs": [],
   "source": []
  },
  {
   "cell_type": "code",
   "execution_count": 9,
   "metadata": {},
   "outputs": [],
   "source": [
    "concepts = []\n",
    "for c in conceptList:\n",
    "    concepts.append(c.attrib)\n",
    "\n",
    "links = []\n",
    "for l in linkList:\n",
    "    links.append(l.attrib)\n",
    "\n",
    "connections = []\n",
    "for c in connectionList:\n",
    "    connections.append(c.attrib)"
   ]
  },
  {
   "cell_type": "code",
   "execution_count": 11,
   "metadata": {},
   "outputs": [],
   "source": [
    "conceptNames = [c['label'] for c in concepts]"
   ]
  },
  {
   "cell_type": "code",
   "execution_count": 12,
   "metadata": {},
   "outputs": [
    {
     "data": {
      "text/plain": [
       "['lidar',\n",
       " 'VNIR',\n",
       " 'VEG_INSAR',\n",
       " 'CPR_RAD',\n",
       " 'topography',\n",
       " 'oceanColor',\n",
       " 'HYP_IMAG',\n",
       " 'SSO-600-DD',\n",
       " 'VNIR',\n",
       " 'SSO-800-PM',\n",
       " 'radar',\n",
       " 'OCE_SPEC',\n",
       " 'cloud',\n",
       " 'SAR_ALTIM',\n",
       " '800km',\n",
       " 'atmHumidity',\n",
       " 'sun-synchronousOrbit',\n",
       " 'imager',\n",
       " 'PM',\n",
       " 'AERO_POL',\n",
       " 'HIRES_SOUND',\n",
       " 'VEG_LID',\n",
       " 'polarOrbit',\n",
       " 'CHEM_SWIRSPEC',\n",
       " 'active',\n",
       " 'soilMoisture',\n",
       " 'radiationBudget',\n",
       " 'landCover',\n",
       " 'AERO_LID',\n",
       " 'dawn-dusk',\n",
       " '600km',\n",
       " 'LEO-600-polar',\n",
       " 'SSO-800-DD',\n",
       " 'vegetation',\n",
       " 'SSO-600-AM',\n",
       " 'passive',\n",
       " 'HYP_ERB',\n",
       " 'seaSurfaceCurrent',\n",
       " 'aerosol',\n",
       " 'atmosphericChem',\n",
       " 'CHEM_UVSPEC',\n",
       " 'highPower',\n",
       " 'AM']"
      ]
     },
     "execution_count": 12,
     "metadata": {},
     "output_type": "execute_result"
    }
   ],
   "source": [
    "conceptNames"
   ]
  },
  {
   "cell_type": "code",
   "execution_count": null,
   "metadata": {},
   "outputs": [],
   "source": []
  },
  {
   "cell_type": "code",
   "execution_count": null,
   "metadata": {},
   "outputs": [],
   "source": []
  },
  {
   "cell_type": "code",
   "execution_count": 76,
   "metadata": {},
   "outputs": [
    {
     "data": {
      "text/plain": [
       "{'id': '1TJFSCLQB-2CYH2JL-8ML',\n",
       " 'from-id': '1TJD9VRX2-1Q692N-6D9',\n",
       " 'to-id': '1TJFSCLQ9-23WLGK5-8MH'}"
      ]
     },
     "execution_count": 76,
     "metadata": {},
     "output_type": "execute_result"
    }
   ],
   "source": [
    "connections[0]"
   ]
  },
  {
   "cell_type": "code",
   "execution_count": 77,
   "metadata": {},
   "outputs": [],
   "source": [
    "edges = []\n",
    "for link in links:\n",
    "    label = link['label']\n",
    "    link_id = link['id']\n",
    "    from_node_id = None\n",
    "    to_node_id = None\n",
    "    \n",
    "    for conn in connections:\n",
    "        if link_id == conn['from-id']:\n",
    "            if to_node_id is None:\n",
    "                to_node_id = conn['to-id']\n",
    "            else:\n",
    "                from_node_id = conn['to-id']\n",
    "        elif link_id == conn['to-id']:\n",
    "            if from_node_id is None:\n",
    "                from_node_id = conn['from-id']\n",
    "            else:\n",
    "                to_node_id = conn['from-id']\n",
    "            \n",
    "    if from_node_id is None or to_node_id is None:\n",
    "        print(label, link_id)\n",
    "        raise ValueError(\"Connection to link not found\")\n",
    "\n",
    "    edges.append({'from': from_node_id, 'to': to_node_id, 'label': label})"
   ]
  },
  {
   "cell_type": "code",
   "execution_count": null,
   "metadata": {},
   "outputs": [],
   "source": []
  },
  {
   "cell_type": "code",
   "execution_count": null,
   "metadata": {},
   "outputs": [],
   "source": []
  },
  {
   "cell_type": "code",
   "execution_count": null,
   "metadata": {},
   "outputs": [],
   "source": []
  },
  {
   "cell_type": "code",
   "execution_count": null,
   "metadata": {},
   "outputs": [],
   "source": []
  },
  {
   "cell_type": "code",
   "execution_count": null,
   "metadata": {},
   "outputs": [],
   "source": []
  },
  {
   "cell_type": "code",
   "execution_count": null,
   "metadata": {},
   "outputs": [],
   "source": []
  }
 ],
 "metadata": {
  "kernelspec": {
   "display_name": "Python 3",
   "language": "python",
   "name": "python3"
  },
  "language_info": {
   "codemirror_mode": {
    "name": "ipython",
    "version": 3
   },
   "file_extension": ".py",
   "mimetype": "text/x-python",
   "name": "python",
   "nbconvert_exporter": "python",
   "pygments_lexer": "ipython3",
   "version": "3.6.5"
  }
 },
 "nbformat": 4,
 "nbformat_minor": 2
}
